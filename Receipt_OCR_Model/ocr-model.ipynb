{
 "cells": [
  {
   "cell_type": "markdown",
   "metadata": {},
   "source": [
    "#### Imports"
   ]
  },
  {
   "cell_type": "code",
   "execution_count": 1,
   "metadata": {
    "execution": {
     "iopub.execute_input": "2024-11-23T20:26:44.060710Z",
     "iopub.status.busy": "2024-11-23T20:26:44.060430Z",
     "iopub.status.idle": "2024-11-23T20:26:58.408432Z",
     "shell.execute_reply": "2024-11-23T20:26:58.407550Z",
     "shell.execute_reply.started": "2024-11-23T20:26:44.060684Z"
    },
    "trusted": true
   },
   "outputs": [
    {
     "name": "stdout",
     "output_type": "stream",
     "text": [
      "Collecting mltu\n",
      "  Downloading mltu-1.2.5-py3-none-any.whl.metadata (3.4 kB)\n",
      "Requirement already satisfied: PyYAML>=6.0 in /opt/conda/lib/python3.10/site-packages (from mltu) (6.0.2)\n",
      "Requirement already satisfied: tqdm in /opt/conda/lib/python3.10/site-packages (from mltu) (4.66.4)\n",
      "Collecting qqdm==0.0.7 (from mltu)\n",
      "  Downloading qqdm-0.0.7.tar.gz (5.3 kB)\n",
      "  Preparing metadata (setup.py) ... \u001b[?25ldone\n",
      "\u001b[?25hRequirement already satisfied: pandas in /opt/conda/lib/python3.10/site-packages (from mltu) (2.2.2)\n",
      "Requirement already satisfied: numpy in /opt/conda/lib/python3.10/site-packages (from mltu) (1.26.4)\n",
      "Requirement already satisfied: opencv-python in /opt/conda/lib/python3.10/site-packages (from mltu) (4.10.0.84)\n",
      "Requirement already satisfied: Pillow>=9.4.0 in /opt/conda/lib/python3.10/site-packages (from mltu) (10.3.0)\n",
      "Collecting onnxruntime>=1.15.0 (from mltu)\n",
      "  Downloading onnxruntime-1.20.1-cp310-cp310-manylinux_2_27_x86_64.manylinux_2_28_x86_64.whl.metadata (4.5 kB)\n",
      "Requirement already satisfied: matplotlib in /opt/conda/lib/python3.10/site-packages (from mltu) (3.7.5)\n",
      "Collecting addict (from qqdm==0.0.7->mltu)\n",
      "  Downloading addict-2.4.0-py3-none-any.whl.metadata (1.0 kB)\n",
      "Collecting jupyter (from qqdm==0.0.7->mltu)\n",
      "  Downloading jupyter-1.1.1-py2.py3-none-any.whl.metadata (2.0 kB)\n",
      "Collecting coloredlogs (from onnxruntime>=1.15.0->mltu)\n",
      "  Downloading coloredlogs-15.0.1-py2.py3-none-any.whl.metadata (12 kB)\n",
      "Requirement already satisfied: flatbuffers in /opt/conda/lib/python3.10/site-packages (from onnxruntime>=1.15.0->mltu) (24.3.25)\n",
      "Requirement already satisfied: packaging in /opt/conda/lib/python3.10/site-packages (from onnxruntime>=1.15.0->mltu) (21.3)\n",
      "Requirement already satisfied: protobuf in /opt/conda/lib/python3.10/site-packages (from onnxruntime>=1.15.0->mltu) (3.20.3)\n",
      "Requirement already satisfied: sympy in /opt/conda/lib/python3.10/site-packages (from onnxruntime>=1.15.0->mltu) (1.13.3)\n",
      "Requirement already satisfied: contourpy>=1.0.1 in /opt/conda/lib/python3.10/site-packages (from matplotlib->mltu) (1.2.1)\n",
      "Requirement already satisfied: cycler>=0.10 in /opt/conda/lib/python3.10/site-packages (from matplotlib->mltu) (0.12.1)\n",
      "Requirement already satisfied: fonttools>=4.22.0 in /opt/conda/lib/python3.10/site-packages (from matplotlib->mltu) (4.53.0)\n",
      "Requirement already satisfied: kiwisolver>=1.0.1 in /opt/conda/lib/python3.10/site-packages (from matplotlib->mltu) (1.4.5)\n",
      "Requirement already satisfied: pyparsing>=2.3.1 in /opt/conda/lib/python3.10/site-packages (from matplotlib->mltu) (3.1.2)\n",
      "Requirement already satisfied: python-dateutil>=2.7 in /opt/conda/lib/python3.10/site-packages (from matplotlib->mltu) (2.9.0.post0)\n",
      "Requirement already satisfied: pytz>=2020.1 in /opt/conda/lib/python3.10/site-packages (from pandas->mltu) (2024.1)\n",
      "Requirement already satisfied: tzdata>=2022.7 in /opt/conda/lib/python3.10/site-packages (from pandas->mltu) (2024.1)\n",
      "Requirement already satisfied: six>=1.5 in /opt/conda/lib/python3.10/site-packages (from python-dateutil>=2.7->matplotlib->mltu) (1.16.0)\n",
      "Collecting humanfriendly>=9.1 (from coloredlogs->onnxruntime>=1.15.0->mltu)\n",
      "  Downloading humanfriendly-10.0-py2.py3-none-any.whl.metadata (9.2 kB)\n",
      "Requirement already satisfied: notebook in /opt/conda/lib/python3.10/site-packages (from jupyter->qqdm==0.0.7->mltu) (6.5.7)\n",
      "Requirement already satisfied: jupyter-console in /opt/conda/lib/python3.10/site-packages (from jupyter->qqdm==0.0.7->mltu) (6.6.3)\n",
      "Requirement already satisfied: nbconvert in /opt/conda/lib/python3.10/site-packages (from jupyter->qqdm==0.0.7->mltu) (6.4.5)\n",
      "Requirement already satisfied: ipykernel in /opt/conda/lib/python3.10/site-packages (from jupyter->qqdm==0.0.7->mltu) (6.29.4)\n",
      "Requirement already satisfied: ipywidgets in /opt/conda/lib/python3.10/site-packages (from jupyter->qqdm==0.0.7->mltu) (7.7.1)\n",
      "Requirement already satisfied: jupyterlab in /opt/conda/lib/python3.10/site-packages (from jupyter->qqdm==0.0.7->mltu) (4.2.5)\n",
      "Requirement already satisfied: mpmath<1.4,>=1.1.0 in /opt/conda/lib/python3.10/site-packages (from sympy->onnxruntime>=1.15.0->mltu) (1.3.0)\n",
      "Requirement already satisfied: comm>=0.1.1 in /opt/conda/lib/python3.10/site-packages (from ipykernel->jupyter->qqdm==0.0.7->mltu) (0.2.2)\n",
      "Requirement already satisfied: debugpy>=1.6.5 in /opt/conda/lib/python3.10/site-packages (from ipykernel->jupyter->qqdm==0.0.7->mltu) (1.8.1)\n",
      "Requirement already satisfied: ipython>=7.23.1 in /opt/conda/lib/python3.10/site-packages (from ipykernel->jupyter->qqdm==0.0.7->mltu) (8.21.0)\n",
      "Requirement already satisfied: jupyter-client>=6.1.12 in /opt/conda/lib/python3.10/site-packages (from ipykernel->jupyter->qqdm==0.0.7->mltu) (7.4.9)\n",
      "Requirement already satisfied: jupyter-core!=5.0.*,>=4.12 in /opt/conda/lib/python3.10/site-packages (from ipykernel->jupyter->qqdm==0.0.7->mltu) (5.7.2)\n",
      "Requirement already satisfied: matplotlib-inline>=0.1 in /opt/conda/lib/python3.10/site-packages (from ipykernel->jupyter->qqdm==0.0.7->mltu) (0.1.7)\n",
      "Requirement already satisfied: nest-asyncio in /opt/conda/lib/python3.10/site-packages (from ipykernel->jupyter->qqdm==0.0.7->mltu) (1.6.0)\n",
      "Requirement already satisfied: psutil in /opt/conda/lib/python3.10/site-packages (from ipykernel->jupyter->qqdm==0.0.7->mltu) (5.9.3)\n",
      "Requirement already satisfied: pyzmq>=24 in /opt/conda/lib/python3.10/site-packages (from ipykernel->jupyter->qqdm==0.0.7->mltu) (26.0.3)\n",
      "Requirement already satisfied: tornado>=6.1 in /opt/conda/lib/python3.10/site-packages (from ipykernel->jupyter->qqdm==0.0.7->mltu) (6.4.1)\n",
      "Requirement already satisfied: traitlets>=5.4.0 in /opt/conda/lib/python3.10/site-packages (from ipykernel->jupyter->qqdm==0.0.7->mltu) (5.14.3)\n",
      "Requirement already satisfied: ipython-genutils~=0.2.0 in /opt/conda/lib/python3.10/site-packages (from ipywidgets->jupyter->qqdm==0.0.7->mltu) (0.2.0)\n",
      "Requirement already satisfied: widgetsnbextension~=3.6.0 in /opt/conda/lib/python3.10/site-packages (from ipywidgets->jupyter->qqdm==0.0.7->mltu) (3.6.9)\n",
      "Requirement already satisfied: jupyterlab-widgets>=1.0.0 in /opt/conda/lib/python3.10/site-packages (from ipywidgets->jupyter->qqdm==0.0.7->mltu) (3.0.11)\n",
      "Requirement already satisfied: prompt-toolkit>=3.0.30 in /opt/conda/lib/python3.10/site-packages (from jupyter-console->jupyter->qqdm==0.0.7->mltu) (3.0.47)\n",
      "Requirement already satisfied: pygments in /opt/conda/lib/python3.10/site-packages (from jupyter-console->jupyter->qqdm==0.0.7->mltu) (2.18.0)\n",
      "Requirement already satisfied: async-lru>=1.0.0 in /opt/conda/lib/python3.10/site-packages (from jupyterlab->jupyter->qqdm==0.0.7->mltu) (2.0.4)\n",
      "Requirement already satisfied: httpx>=0.25.0 in /opt/conda/lib/python3.10/site-packages (from jupyterlab->jupyter->qqdm==0.0.7->mltu) (0.27.0)\n",
      "Requirement already satisfied: jinja2>=3.0.3 in /opt/conda/lib/python3.10/site-packages (from jupyterlab->jupyter->qqdm==0.0.7->mltu) (3.1.4)\n",
      "Collecting jupyter-lsp>=2.0.0 (from jupyterlab->jupyter->qqdm==0.0.7->mltu)\n",
      "  Downloading jupyter_lsp-2.2.5-py3-none-any.whl.metadata (1.8 kB)\n",
      "Requirement already satisfied: jupyter-server<3,>=2.4.0 in /opt/conda/lib/python3.10/site-packages (from jupyterlab->jupyter->qqdm==0.0.7->mltu) (2.12.5)\n",
      "Requirement already satisfied: jupyterlab-server<3,>=2.27.1 in /opt/conda/lib/python3.10/site-packages (from jupyterlab->jupyter->qqdm==0.0.7->mltu) (2.27.2)\n",
      "Requirement already satisfied: notebook-shim>=0.2 in /opt/conda/lib/python3.10/site-packages (from jupyterlab->jupyter->qqdm==0.0.7->mltu) (0.2.4)\n",
      "Requirement already satisfied: setuptools>=40.1.0 in /opt/conda/lib/python3.10/site-packages (from jupyterlab->jupyter->qqdm==0.0.7->mltu) (70.0.0)\n",
      "Requirement already satisfied: tomli>=1.2.2 in /opt/conda/lib/python3.10/site-packages (from jupyterlab->jupyter->qqdm==0.0.7->mltu) (2.0.1)\n",
      "Requirement already satisfied: mistune<2,>=0.8.1 in /opt/conda/lib/python3.10/site-packages (from nbconvert->jupyter->qqdm==0.0.7->mltu) (0.8.4)\n",
      "Requirement already satisfied: jupyterlab-pygments in /opt/conda/lib/python3.10/site-packages (from nbconvert->jupyter->qqdm==0.0.7->mltu) (0.3.0)\n",
      "Requirement already satisfied: nbformat>=4.4 in /opt/conda/lib/python3.10/site-packages (from nbconvert->jupyter->qqdm==0.0.7->mltu) (5.10.4)\n",
      "Requirement already satisfied: entrypoints>=0.2.2 in /opt/conda/lib/python3.10/site-packages (from nbconvert->jupyter->qqdm==0.0.7->mltu) (0.4)\n",
      "Requirement already satisfied: bleach in /opt/conda/lib/python3.10/site-packages (from nbconvert->jupyter->qqdm==0.0.7->mltu) (6.1.0)\n",
      "Requirement already satisfied: pandocfilters>=1.4.1 in /opt/conda/lib/python3.10/site-packages (from nbconvert->jupyter->qqdm==0.0.7->mltu) (1.5.0)\n",
      "Requirement already satisfied: testpath in /opt/conda/lib/python3.10/site-packages (from nbconvert->jupyter->qqdm==0.0.7->mltu) (0.6.0)\n",
      "Requirement already satisfied: defusedxml in /opt/conda/lib/python3.10/site-packages (from nbconvert->jupyter->qqdm==0.0.7->mltu) (0.7.1)\n",
      "Requirement already satisfied: beautifulsoup4 in /opt/conda/lib/python3.10/site-packages (from nbconvert->jupyter->qqdm==0.0.7->mltu) (4.12.3)\n",
      "Requirement already satisfied: nbclient<0.6.0,>=0.5.0 in /opt/conda/lib/python3.10/site-packages (from nbconvert->jupyter->qqdm==0.0.7->mltu) (0.5.13)\n",
      "Requirement already satisfied: MarkupSafe>=2.0 in /opt/conda/lib/python3.10/site-packages (from nbconvert->jupyter->qqdm==0.0.7->mltu) (2.1.5)\n",
      "Requirement already satisfied: argon2-cffi in /opt/conda/lib/python3.10/site-packages (from notebook->jupyter->qqdm==0.0.7->mltu) (23.1.0)\n",
      "Requirement already satisfied: Send2Trash>=1.8.0 in /opt/conda/lib/python3.10/site-packages (from notebook->jupyter->qqdm==0.0.7->mltu) (1.8.3)\n",
      "Requirement already satisfied: terminado>=0.8.3 in /opt/conda/lib/python3.10/site-packages (from notebook->jupyter->qqdm==0.0.7->mltu) (0.18.1)\n",
      "Requirement already satisfied: prometheus-client in /opt/conda/lib/python3.10/site-packages (from notebook->jupyter->qqdm==0.0.7->mltu) (0.20.0)\n",
      "Requirement already satisfied: nbclassic>=0.4.7 in /opt/conda/lib/python3.10/site-packages (from notebook->jupyter->qqdm==0.0.7->mltu) (1.1.0)\n",
      "Requirement already satisfied: typing-extensions>=4.0.0 in /opt/conda/lib/python3.10/site-packages (from async-lru>=1.0.0->jupyterlab->jupyter->qqdm==0.0.7->mltu) (4.12.2)\n",
      "Requirement already satisfied: anyio in /opt/conda/lib/python3.10/site-packages (from httpx>=0.25.0->jupyterlab->jupyter->qqdm==0.0.7->mltu) (4.4.0)\n",
      "Requirement already satisfied: certifi in /opt/conda/lib/python3.10/site-packages (from httpx>=0.25.0->jupyterlab->jupyter->qqdm==0.0.7->mltu) (2024.8.30)\n",
      "Requirement already satisfied: httpcore==1.* in /opt/conda/lib/python3.10/site-packages (from httpx>=0.25.0->jupyterlab->jupyter->qqdm==0.0.7->mltu) (1.0.5)\n",
      "Requirement already satisfied: idna in /opt/conda/lib/python3.10/site-packages (from httpx>=0.25.0->jupyterlab->jupyter->qqdm==0.0.7->mltu) (3.7)\n",
      "Requirement already satisfied: sniffio in /opt/conda/lib/python3.10/site-packages (from httpx>=0.25.0->jupyterlab->jupyter->qqdm==0.0.7->mltu) (1.3.1)\n",
      "Requirement already satisfied: h11<0.15,>=0.13 in /opt/conda/lib/python3.10/site-packages (from httpcore==1.*->httpx>=0.25.0->jupyterlab->jupyter->qqdm==0.0.7->mltu) (0.14.0)\n",
      "Requirement already satisfied: decorator in /opt/conda/lib/python3.10/site-packages (from ipython>=7.23.1->ipykernel->jupyter->qqdm==0.0.7->mltu) (5.1.1)\n",
      "Requirement already satisfied: jedi>=0.16 in /opt/conda/lib/python3.10/site-packages (from ipython>=7.23.1->ipykernel->jupyter->qqdm==0.0.7->mltu) (0.19.1)\n",
      "Requirement already satisfied: stack-data in /opt/conda/lib/python3.10/site-packages (from ipython>=7.23.1->ipykernel->jupyter->qqdm==0.0.7->mltu) (0.6.2)\n",
      "Requirement already satisfied: exceptiongroup in /opt/conda/lib/python3.10/site-packages (from ipython>=7.23.1->ipykernel->jupyter->qqdm==0.0.7->mltu) (1.2.0)\n",
      "Requirement already satisfied: pexpect>4.3 in /opt/conda/lib/python3.10/site-packages (from ipython>=7.23.1->ipykernel->jupyter->qqdm==0.0.7->mltu) (4.9.0)\n",
      "Requirement already satisfied: platformdirs>=2.5 in /opt/conda/lib/python3.10/site-packages (from jupyter-core!=5.0.*,>=4.12->ipykernel->jupyter->qqdm==0.0.7->mltu) (3.11.0)\n",
      "Requirement already satisfied: jupyter-events>=0.9.0 in /opt/conda/lib/python3.10/site-packages (from jupyter-server<3,>=2.4.0->jupyterlab->jupyter->qqdm==0.0.7->mltu) (0.10.0)\n",
      "Requirement already satisfied: jupyter-server-terminals in /opt/conda/lib/python3.10/site-packages (from jupyter-server<3,>=2.4.0->jupyterlab->jupyter->qqdm==0.0.7->mltu) (0.5.3)\n",
      "Requirement already satisfied: overrides in /opt/conda/lib/python3.10/site-packages (from jupyter-server<3,>=2.4.0->jupyterlab->jupyter->qqdm==0.0.7->mltu) (7.7.0)\n",
      "Requirement already satisfied: websocket-client in /opt/conda/lib/python3.10/site-packages (from jupyter-server<3,>=2.4.0->jupyterlab->jupyter->qqdm==0.0.7->mltu) (1.8.0)\n",
      "Requirement already satisfied: babel>=2.10 in /opt/conda/lib/python3.10/site-packages (from jupyterlab-server<3,>=2.27.1->jupyterlab->jupyter->qqdm==0.0.7->mltu) (2.15.0)\n",
      "Requirement already satisfied: json5>=0.9.0 in /opt/conda/lib/python3.10/site-packages (from jupyterlab-server<3,>=2.27.1->jupyterlab->jupyter->qqdm==0.0.7->mltu) (0.9.25)\n",
      "Requirement already satisfied: jsonschema>=4.18.0 in /opt/conda/lib/python3.10/site-packages (from jupyterlab-server<3,>=2.27.1->jupyterlab->jupyter->qqdm==0.0.7->mltu) (4.22.0)\n",
      "Requirement already satisfied: requests>=2.31 in /opt/conda/lib/python3.10/site-packages (from jupyterlab-server<3,>=2.27.1->jupyterlab->jupyter->qqdm==0.0.7->mltu) (2.32.3)\n",
      "Requirement already satisfied: fastjsonschema>=2.15 in /opt/conda/lib/python3.10/site-packages (from nbformat>=4.4->nbconvert->jupyter->qqdm==0.0.7->mltu) (2.19.1)\n",
      "Requirement already satisfied: wcwidth in /opt/conda/lib/python3.10/site-packages (from prompt-toolkit>=3.0.30->jupyter-console->jupyter->qqdm==0.0.7->mltu) (0.2.13)\n",
      "Requirement already satisfied: ptyprocess in /opt/conda/lib/python3.10/site-packages (from terminado>=0.8.3->notebook->jupyter->qqdm==0.0.7->mltu) (0.7.0)\n",
      "Requirement already satisfied: argon2-cffi-bindings in /opt/conda/lib/python3.10/site-packages (from argon2-cffi->notebook->jupyter->qqdm==0.0.7->mltu) (21.2.0)\n",
      "Requirement already satisfied: soupsieve>1.2 in /opt/conda/lib/python3.10/site-packages (from beautifulsoup4->nbconvert->jupyter->qqdm==0.0.7->mltu) (2.5)\n",
      "Requirement already satisfied: webencodings in /opt/conda/lib/python3.10/site-packages (from bleach->nbconvert->jupyter->qqdm==0.0.7->mltu) (0.5.1)\n",
      "Requirement already satisfied: parso<0.9.0,>=0.8.3 in /opt/conda/lib/python3.10/site-packages (from jedi>=0.16->ipython>=7.23.1->ipykernel->jupyter->qqdm==0.0.7->mltu) (0.8.4)\n",
      "Requirement already satisfied: attrs>=22.2.0 in /opt/conda/lib/python3.10/site-packages (from jsonschema>=4.18.0->jupyterlab-server<3,>=2.27.1->jupyterlab->jupyter->qqdm==0.0.7->mltu) (23.2.0)\n",
      "Requirement already satisfied: jsonschema-specifications>=2023.03.6 in /opt/conda/lib/python3.10/site-packages (from jsonschema>=4.18.0->jupyterlab-server<3,>=2.27.1->jupyterlab->jupyter->qqdm==0.0.7->mltu) (2023.12.1)\n",
      "Requirement already satisfied: referencing>=0.28.4 in /opt/conda/lib/python3.10/site-packages (from jsonschema>=4.18.0->jupyterlab-server<3,>=2.27.1->jupyterlab->jupyter->qqdm==0.0.7->mltu) (0.35.1)\n",
      "Requirement already satisfied: rpds-py>=0.7.1 in /opt/conda/lib/python3.10/site-packages (from jsonschema>=4.18.0->jupyterlab-server<3,>=2.27.1->jupyterlab->jupyter->qqdm==0.0.7->mltu) (0.18.1)\n",
      "Requirement already satisfied: python-json-logger>=2.0.4 in /opt/conda/lib/python3.10/site-packages (from jupyter-events>=0.9.0->jupyter-server<3,>=2.4.0->jupyterlab->jupyter->qqdm==0.0.7->mltu) (2.0.7)\n",
      "Requirement already satisfied: rfc3339-validator in /opt/conda/lib/python3.10/site-packages (from jupyter-events>=0.9.0->jupyter-server<3,>=2.4.0->jupyterlab->jupyter->qqdm==0.0.7->mltu) (0.1.4)\n",
      "Requirement already satisfied: rfc3986-validator>=0.1.1 in /opt/conda/lib/python3.10/site-packages (from jupyter-events>=0.9.0->jupyter-server<3,>=2.4.0->jupyterlab->jupyter->qqdm==0.0.7->mltu) (0.1.1)\n",
      "Requirement already satisfied: charset-normalizer<4,>=2 in /opt/conda/lib/python3.10/site-packages (from requests>=2.31->jupyterlab-server<3,>=2.27.1->jupyterlab->jupyter->qqdm==0.0.7->mltu) (3.3.2)\n",
      "Requirement already satisfied: urllib3<3,>=1.21.1 in /opt/conda/lib/python3.10/site-packages (from requests>=2.31->jupyterlab-server<3,>=2.27.1->jupyterlab->jupyter->qqdm==0.0.7->mltu) (1.26.18)\n",
      "Requirement already satisfied: cffi>=1.0.1 in /opt/conda/lib/python3.10/site-packages (from argon2-cffi-bindings->argon2-cffi->notebook->jupyter->qqdm==0.0.7->mltu) (1.16.0)\n",
      "Requirement already satisfied: executing>=1.2.0 in /opt/conda/lib/python3.10/site-packages (from stack-data->ipython>=7.23.1->ipykernel->jupyter->qqdm==0.0.7->mltu) (2.0.1)\n",
      "Requirement already satisfied: asttokens>=2.1.0 in /opt/conda/lib/python3.10/site-packages (from stack-data->ipython>=7.23.1->ipykernel->jupyter->qqdm==0.0.7->mltu) (2.4.1)\n",
      "Requirement already satisfied: pure-eval in /opt/conda/lib/python3.10/site-packages (from stack-data->ipython>=7.23.1->ipykernel->jupyter->qqdm==0.0.7->mltu) (0.2.2)\n",
      "Requirement already satisfied: pycparser in /opt/conda/lib/python3.10/site-packages (from cffi>=1.0.1->argon2-cffi-bindings->argon2-cffi->notebook->jupyter->qqdm==0.0.7->mltu) (2.22)\n",
      "Requirement already satisfied: fqdn in /opt/conda/lib/python3.10/site-packages (from jsonschema[format-nongpl]>=4.18.0->jupyter-events>=0.9.0->jupyter-server<3,>=2.4.0->jupyterlab->jupyter->qqdm==0.0.7->mltu) (1.5.1)\n",
      "Requirement already satisfied: isoduration in /opt/conda/lib/python3.10/site-packages (from jsonschema[format-nongpl]>=4.18.0->jupyter-events>=0.9.0->jupyter-server<3,>=2.4.0->jupyterlab->jupyter->qqdm==0.0.7->mltu) (20.11.0)\n",
      "Requirement already satisfied: jsonpointer>1.13 in /opt/conda/lib/python3.10/site-packages (from jsonschema[format-nongpl]>=4.18.0->jupyter-events>=0.9.0->jupyter-server<3,>=2.4.0->jupyterlab->jupyter->qqdm==0.0.7->mltu) (2.4)\n",
      "Requirement already satisfied: uri-template in /opt/conda/lib/python3.10/site-packages (from jsonschema[format-nongpl]>=4.18.0->jupyter-events>=0.9.0->jupyter-server<3,>=2.4.0->jupyterlab->jupyter->qqdm==0.0.7->mltu) (1.3.0)\n",
      "Requirement already satisfied: webcolors>=1.11 in /opt/conda/lib/python3.10/site-packages (from jsonschema[format-nongpl]>=4.18.0->jupyter-events>=0.9.0->jupyter-server<3,>=2.4.0->jupyterlab->jupyter->qqdm==0.0.7->mltu) (24.6.0)\n",
      "Requirement already satisfied: arrow>=0.15.0 in /opt/conda/lib/python3.10/site-packages (from isoduration->jsonschema[format-nongpl]>=4.18.0->jupyter-events>=0.9.0->jupyter-server<3,>=2.4.0->jupyterlab->jupyter->qqdm==0.0.7->mltu) (1.3.0)\n",
      "Requirement already satisfied: types-python-dateutil>=2.8.10 in /opt/conda/lib/python3.10/site-packages (from arrow>=0.15.0->isoduration->jsonschema[format-nongpl]>=4.18.0->jupyter-events>=0.9.0->jupyter-server<3,>=2.4.0->jupyterlab->jupyter->qqdm==0.0.7->mltu) (2.9.0.20240316)\n",
      "Downloading mltu-1.2.5-py3-none-any.whl (74 kB)\n",
      "\u001b[2K   \u001b[90m━━━━━━━━━━━━━━━━━━━━━━━━━━━━━━━━━━━━━━━━\u001b[0m \u001b[32m74.6/74.6 kB\u001b[0m \u001b[31m3.6 MB/s\u001b[0m eta \u001b[36m0:00:00\u001b[0m\n",
      "\u001b[?25hDownloading onnxruntime-1.20.1-cp310-cp310-manylinux_2_27_x86_64.manylinux_2_28_x86_64.whl (13.3 MB)\n",
      "\u001b[2K   \u001b[90m━━━━━━━━━━━━━━━━━━━━━━━━━━━━━━━━━━━━━━━━\u001b[0m \u001b[32m13.3/13.3 MB\u001b[0m \u001b[31m99.4 MB/s\u001b[0m eta \u001b[36m0:00:00\u001b[0m:00:01\u001b[0m0:01\u001b[0m\n",
      "\u001b[?25hDownloading addict-2.4.0-py3-none-any.whl (3.8 kB)\n",
      "Downloading coloredlogs-15.0.1-py2.py3-none-any.whl (46 kB)\n",
      "\u001b[2K   \u001b[90m━━━━━━━━━━━━━━━━━━━━━━━━━━━━━━━━━━━━━━━━\u001b[0m \u001b[32m46.0/46.0 kB\u001b[0m \u001b[31m2.9 MB/s\u001b[0m eta \u001b[36m0:00:00\u001b[0m\n",
      "\u001b[?25hDownloading jupyter-1.1.1-py2.py3-none-any.whl (2.7 kB)\n",
      "Downloading humanfriendly-10.0-py2.py3-none-any.whl (86 kB)\n",
      "\u001b[2K   \u001b[90m━━━━━━━━━━━━━━━━━━━━━━━━━━━━━━━━━━━━━━━━\u001b[0m \u001b[32m86.8/86.8 kB\u001b[0m \u001b[31m6.1 MB/s\u001b[0m eta \u001b[36m0:00:00\u001b[0m\n",
      "\u001b[?25hDownloading jupyter_lsp-2.2.5-py3-none-any.whl (69 kB)\n",
      "\u001b[2K   \u001b[90m━━━━━━━━━━━━━━━━━━━━━━━━━━━━━━━━━━━━━━━━\u001b[0m \u001b[32m69.1/69.1 kB\u001b[0m \u001b[31m4.5 MB/s\u001b[0m eta \u001b[36m0:00:00\u001b[0m\n",
      "\u001b[?25hBuilding wheels for collected packages: qqdm\n",
      "  Building wheel for qqdm (setup.py) ... \u001b[?25ldone\n",
      "\u001b[?25h  Created wheel for qqdm: filename=qqdm-0.0.7-py3-none-any.whl size=6466 sha256=836b09f526e2075bf679ae68a8fe87f5adc425493c748e0c67c55e0ab9931e5e\n",
      "  Stored in directory: /root/.cache/pip/wheels/40/1a/56/5dccdea123a172661eb65c8c29fde4567dbda2b72b5fc5893a\n",
      "Successfully built qqdm\n",
      "Installing collected packages: addict, humanfriendly, coloredlogs, onnxruntime, jupyter-lsp, jupyter, qqdm, mltu\n",
      "  Attempting uninstall: jupyter-lsp\n",
      "    Found existing installation: jupyter-lsp 1.5.1\n",
      "    Uninstalling jupyter-lsp-1.5.1:\n",
      "      Successfully uninstalled jupyter-lsp-1.5.1\n",
      "Successfully installed addict-2.4.0 coloredlogs-15.0.1 humanfriendly-10.0 jupyter-1.1.1 jupyter-lsp-2.2.5 mltu-1.2.5 onnxruntime-1.20.1 qqdm-0.0.7\n"
     ]
    }
   ],
   "source": [
    "!pip install mltu"
   ]
  },
  {
   "cell_type": "code",
   "execution_count": 2,
   "metadata": {
    "execution": {
     "iopub.execute_input": "2024-11-23T20:26:58.410313Z",
     "iopub.status.busy": "2024-11-23T20:26:58.410039Z",
     "iopub.status.idle": "2024-11-23T20:27:09.368468Z",
     "shell.execute_reply": "2024-11-23T20:27:09.367658Z",
     "shell.execute_reply.started": "2024-11-23T20:26:58.410286Z"
    },
    "trusted": true
   },
   "outputs": [],
   "source": [
    "# from datasets import load_dataset\n",
    "from zipfile import ZipFile\n",
    "import matplotlib.pyplot as plt\n",
    "import tensorflow as tf\n",
    "from tensorflow.keras.applications import ResNet50\n",
    "from tensorflow.keras.layers import Input, Dense, Flatten, Bidirectional, LSTM, Reshape\n",
    "from tensorflow.keras.models import Model\n",
    "from tensorflow.keras.layers import Lambda\n",
    "import random\n",
    "from PIL import Image\n",
    "import os"
   ]
  },
  {
   "cell_type": "markdown",
   "metadata": {},
   "source": [
    "#### Buat Unzip nya ilang ga tau napa"
   ]
  },
  {
   "cell_type": "markdown",
   "metadata": {},
   "source": [
    "#### Directories"
   ]
  },
  {
   "cell_type": "code",
   "execution_count": null,
   "metadata": {
    "execution": {
     "iopub.execute_input": "2024-11-23T20:27:09.369879Z",
     "iopub.status.busy": "2024-11-23T20:27:09.369438Z",
     "iopub.status.idle": "2024-11-23T20:27:09.374525Z",
     "shell.execute_reply": "2024-11-23T20:27:09.373712Z",
     "shell.execute_reply.started": "2024-11-23T20:27:09.369836Z"
    },
    "trusted": true
   },
   "outputs": [],
   "source": [
    "## JANGAN LUPA GANTI DIREKTORI SESUAI ENTAR YANG DI KAGGLE\n",
    "\n",
    "ROOT_DIR = os.getcwd()\n",
    "DATASET_DIR = '/kaggle/input/ocr-test'\n",
    "TRAIN_DIR  =os.path.join(DATASET_DIR, \"train\", \"train\")\n",
    "VAL_DIR = os.path.join(DATASET_DIR, \"test\", \"test\")\n",
    "TRAIN_METADATA_PATH = os.path.join(TRAIN_DIR, \"metadata.jsonl\")\n",
    "VAL_METADATA_PATH = os.path.join(VAL_DIR, \"metadata.jsonl\")\n",
    "TRAINED_MODEL_PATH = os.path.join(\".\\\\trained_models\")"
   ]
  },
  {
   "cell_type": "code",
   "execution_count": 4,
   "metadata": {
    "execution": {
     "iopub.execute_input": "2024-11-23T20:27:09.377418Z",
     "iopub.status.busy": "2024-11-23T20:27:09.377161Z",
     "iopub.status.idle": "2024-11-23T20:27:10.443093Z",
     "shell.execute_reply": "2024-11-23T20:27:10.442261Z",
     "shell.execute_reply.started": "2024-11-23T20:27:09.377394Z"
    },
    "trusted": true
   },
   "outputs": [
    {
     "name": "stdout",
     "output_type": "stream",
     "text": [
      "33627\n",
      "18705\n"
     ]
    }
   ],
   "source": [
    "print(len(os.listdir(TRAIN_DIR)))\n",
    "print(len(os.listdir(VAL_DIR)))"
   ]
  },
  {
   "cell_type": "markdown",
   "metadata": {},
   "source": [
    "#### Params"
   ]
  },
  {
   "cell_type": "code",
   "execution_count": 5,
   "metadata": {
    "execution": {
     "iopub.execute_input": "2024-11-23T20:27:10.444373Z",
     "iopub.status.busy": "2024-11-23T20:27:10.444110Z",
     "iopub.status.idle": "2024-11-23T20:27:10.448787Z",
     "shell.execute_reply": "2024-11-23T20:27:10.447914Z",
     "shell.execute_reply.started": "2024-11-23T20:27:10.444348Z"
    },
    "trusted": true
   },
   "outputs": [],
   "source": [
    "BATCH_SIZE = 64\n",
    "IMAGE_SIZE = (32, 128)\n",
    "BUFFER_SIZE = 1000\n",
    "LEARNING_RATE = 1e-4\n",
    "WORKERS = 10"
   ]
  },
  {
   "cell_type": "code",
   "execution_count": 6,
   "metadata": {
    "execution": {
     "iopub.execute_input": "2024-11-23T20:27:10.450190Z",
     "iopub.status.busy": "2024-11-23T20:27:10.449959Z",
     "iopub.status.idle": "2024-11-23T20:27:10.461260Z",
     "shell.execute_reply": "2024-11-23T20:27:10.460629Z",
     "shell.execute_reply.started": "2024-11-23T20:27:10.450167Z"
    },
    "trusted": true
   },
   "outputs": [],
   "source": [
    "import json\n",
    "\n",
    "def load_json_data(file_path):\n",
    "    image_data = []\n",
    "    text_data = []\n",
    "    with open(file_path, 'r') as file:\n",
    "        for line in file:\n",
    "            try:\n",
    "                data = json.loads(line.strip())\n",
    "                image_data.append(data['file_name'])\n",
    "                text_data.append(data['text'])\n",
    "            except json.JSONDecodeError as e:\n",
    "                print(f\"Error decoding JSON: {e}\")\n",
    "    \n",
    "    return image_data, text_data"
   ]
  },
  {
   "cell_type": "markdown",
   "metadata": {},
   "source": [
    "#### Preprocessing Images"
   ]
  },
  {
   "cell_type": "code",
   "execution_count": 7,
   "metadata": {
    "execution": {
     "iopub.execute_input": "2024-11-23T20:27:10.462937Z",
     "iopub.status.busy": "2024-11-23T20:27:10.462289Z",
     "iopub.status.idle": "2024-11-23T20:27:10.473308Z",
     "shell.execute_reply": "2024-11-23T20:27:10.472590Z",
     "shell.execute_reply.started": "2024-11-23T20:27:10.462897Z"
    },
    "trusted": true
   },
   "outputs": [],
   "source": [
    "def preprocess_image(image_path, target_size):\n",
    "    image = tf.io.read_file(image_path)\n",
    "    image = tf.image.decode_image(image, channels=3)\n",
    "    image.set_shape([None, None, 3])  # Ensure the shape is defined\n",
    "    image = tf.image.resize(image, target_size)\n",
    "    # image = tf.image.rgb_to_grayscale(image)\n",
    "    image = tf.cast(image, tf.int32)\n",
    "    return image\n",
    "\n",
    "def load_images_as_tensor(data_json, image_size, subset):\n",
    "    dataset = tf.data.Dataset.from_tensor_slices(data_json)\n",
    " \n",
    "    if subset == \"train\":\n",
    "        preprocess_fn = lambda img: preprocess_image(\n",
    "            tf.strings.join([TRAIN_DIR, img], separator=os.path.sep), image_size\n",
    "        )\n",
    "    else:\n",
    "        preprocess_fn = lambda img: preprocess_image(\n",
    "            tf.strings.join([VAL_DIR, img], separator=os.path.sep), image_size\n",
    "        )\n",
    "\n",
    "    dataset = dataset.map(\n",
    "        preprocess_fn,\n",
    "        num_parallel_calls=tf.data.AUTOTUNE\n",
    "    )\n",
    "    \n",
    "    return dataset"
   ]
  },
  {
   "cell_type": "code",
   "execution_count": 8,
   "metadata": {
    "execution": {
     "iopub.execute_input": "2024-11-23T20:27:10.474556Z",
     "iopub.status.busy": "2024-11-23T20:27:10.474316Z",
     "iopub.status.idle": "2024-11-23T20:27:10.653882Z",
     "shell.execute_reply": "2024-11-23T20:27:10.653166Z",
     "shell.execute_reply.started": "2024-11-23T20:27:10.474534Z"
    },
    "trusted": true
   },
   "outputs": [],
   "source": [
    "train_image_data, train_text_data = load_json_data(TRAIN_METADATA_PATH)\n",
    "val_image_data, val_text_data = load_json_data(VAL_METADATA_PATH)"
   ]
  },
  {
   "cell_type": "markdown",
   "metadata": {},
   "source": [
    "#### Vectorizer Settings"
   ]
  },
  {
   "cell_type": "code",
   "execution_count": 9,
   "metadata": {
    "execution": {
     "iopub.execute_input": "2024-11-23T20:27:10.655203Z",
     "iopub.status.busy": "2024-11-23T20:27:10.654927Z",
     "iopub.status.idle": "2024-11-23T20:27:11.381166Z",
     "shell.execute_reply": "2024-11-23T20:27:11.380161Z",
     "shell.execute_reply.started": "2024-11-23T20:27:10.655178Z"
    },
    "trusted": true
   },
   "outputs": [
    {
     "name": "stdout",
     "output_type": "stream",
     "text": [
      "Text with maximum length: NO REFUNDS OR EXCHANGES WILL BE ENTERTAINED WITHOUT PROOF OF RECEIPT.\n",
      "Maximum raw text length: 69\n"
     ]
    }
   ],
   "source": [
    "char_set = ['[START]', '[END]'] + list('0123456789abcdefghijklmnopqrstuvwxyzABCDEFGHIJKLMNOPQRSTUVWXYZ.,!?@$&()[]{}:;/- ')\n",
    "max_len_text = max(val_text_data, key=len)\n",
    "max_len = len(max_len_text)\n",
    "\n",
    "vocab_size = len(char_set) + 2\n",
    "\n",
    "print(f\"Text with maximum length: {max_len_text}\")\n",
    "print(f\"Maximum raw text length: {max_len}\")\n",
    "\n",
    "vectorizer = tf.keras.layers.TextVectorization(\n",
    "    max_tokens=vocab_size,\n",
    "    standardize=\"lower\",\n",
    "    split='character',\n",
    "    output_sequence_length=max_len,\n",
    "    vocabulary=char_set\n",
    ")"
   ]
  },
  {
   "cell_type": "markdown",
   "metadata": {},
   "source": [
    "#### Preprocessing Texts"
   ]
  },
  {
   "cell_type": "code",
   "execution_count": 10,
   "metadata": {
    "execution": {
     "iopub.execute_input": "2024-11-23T20:27:11.385179Z",
     "iopub.status.busy": "2024-11-23T20:27:11.384801Z",
     "iopub.status.idle": "2024-11-23T20:27:11.393833Z",
     "shell.execute_reply": "2024-11-23T20:27:11.392917Z",
     "shell.execute_reply.started": "2024-11-23T20:27:11.385140Z"
    },
    "trusted": true
   },
   "outputs": [],
   "source": [
    "def preprocess_text(text, vectorizer):\n",
    "    tokenized_text = tf.strings.join(['[START]', text, '[END]'])\n",
    "    vectorized_text = vectorizer(tokenized_text)\n",
    "    return vectorized_text\n",
    "\n",
    "def vector_to_text(vectorized_text, vectorizer):\n",
    "    vocab = vectorizer.get_vocabulary()\n",
    "    decoded_text = [vocab[i] for i in vectorized_text if i != 0]\n",
    "    return ''.join(decoded_text)\n",
    "\n",
    "def load_text_to_tensor(data_text_json, vectorizer):\n",
    "    dataset = tf.data.Dataset.from_tensor_slices(data_text_json)\n",
    "    dataset = dataset.map(\n",
    "        lambda text: preprocess_text(text, vectorizer),\n",
    "        num_parallel_calls=tf.data.AUTOTUNE\n",
    "    )\n",
    "    return dataset"
   ]
  },
  {
   "cell_type": "markdown",
   "metadata": {},
   "source": [
    "#### Creating The Dataset"
   ]
  },
  {
   "cell_type": "code",
   "execution_count": 11,
   "metadata": {
    "execution": {
     "iopub.execute_input": "2024-11-23T20:27:11.395769Z",
     "iopub.status.busy": "2024-11-23T20:27:11.395130Z",
     "iopub.status.idle": "2024-11-23T20:27:11.411974Z",
     "shell.execute_reply": "2024-11-23T20:27:11.410952Z",
     "shell.execute_reply.started": "2024-11-23T20:27:11.395730Z"
    },
    "trusted": true
   },
   "outputs": [],
   "source": [
    "def load_dataset(data_path, subset, image_size, vectorizer, num_samples=None):\n",
    "    images, texts = load_json_data(data_path)\n",
    "    images_t = load_images_as_tensor(images, image_size, subset)\n",
    "    texts_t = load_text_to_tensor(texts, vectorizer)\n",
    "    num_samples = len(images) if num_samples is None else num_samples\n",
    "    \n",
    "    dataset = tf.data.Dataset.zip((images_t, texts_t))\n",
    "    buffer_size = int(0.1 * len(images))\n",
    "    dataset = (\n",
    "        dataset\n",
    "        .shuffle(buffer_size=buffer_size)\n",
    "        .take(num_samples)\n",
    "        .cache()\n",
    "        .batch(batch_size=BATCH_SIZE)\n",
    "        .prefetch(buffer_size=tf.data.AUTOTUNE)\n",
    "    )\n",
    "    return dataset"
   ]
  },
  {
   "cell_type": "code",
   "execution_count": 12,
   "metadata": {
    "execution": {
     "iopub.execute_input": "2024-11-23T20:27:11.413565Z",
     "iopub.status.busy": "2024-11-23T20:27:11.413053Z",
     "iopub.status.idle": "2024-11-23T20:27:12.014003Z",
     "shell.execute_reply": "2024-11-23T20:27:12.013305Z",
     "shell.execute_reply.started": "2024-11-23T20:27:11.413539Z"
    },
    "trusted": true
   },
   "outputs": [],
   "source": [
    "train_ds = load_dataset(TRAIN_METADATA_PATH, \"train\", IMAGE_SIZE, vectorizer, 1000)\n",
    "val_ds = load_dataset(VAL_METADATA_PATH, \"val\", IMAGE_SIZE, vectorizer, 100)"
   ]
  },
  {
   "cell_type": "code",
   "execution_count": null,
   "metadata": {
    "execution": {
     "iopub.execute_input": "2024-11-23T20:27:12.015314Z",
     "iopub.status.busy": "2024-11-23T20:27:12.015054Z"
    },
    "trusted": true
   },
   "outputs": [],
   "source": [
    "for image, text in train_ds.take(1):\n",
    "    print(f\"image shape: {image.shape}\")\n",
    "    print(text[1])\n",
    "    print(f\"text shape: {text.shape}\")"
   ]
  },
  {
   "cell_type": "code",
   "execution_count": null,
   "metadata": {
    "trusted": true
   },
   "outputs": [],
   "source": [
    "import matplotlib.pyplot as plt\n",
    "\n",
    "def plot_images_with_titles(dataset, num_images, vectorizer, title=\"Images\", figsize=(30, 10)):\n",
    "    fig, axes = plt.subplots(1, num_images, figsize=figsize)\n",
    "\n",
    "    for idx, (image, text) in enumerate(dataset.take(1)):\n",
    "        if idx >= num_images:\n",
    "            break\n",
    "\n",
    "        for i in range(min(num_images, image.shape[0])):  \n",
    "            single_img = image[i]  \n",
    "            single_text = text[i]  \n",
    "            title_text = vector_to_text(single_text, vectorizer) \n",
    "            axes[i].imshow(single_img.numpy().squeeze())\n",
    "            axes[i].set_title(title_text, fontsize=16) \n",
    "            axes[i].axis('off')\n",
    "\n",
    "    plt.suptitle(title, fontsize=32)\n",
    "    plt.show()\n",
    "\n",
    "\n",
    "plot_images_with_titles(train_ds, num_images=5, vectorizer=vectorizer, title=\"Training Images\")\n",
    "plot_images_with_titles(val_ds, num_images=5, vectorizer=vectorizer, title=\"Validation Images\")"
   ]
  },
  {
   "cell_type": "markdown",
   "metadata": {},
   "source": [
    "#### Creating Model"
   ]
  },
  {
   "cell_type": "code",
   "execution_count": null,
   "metadata": {
    "trusted": true
   },
   "outputs": [],
   "source": [
    "from tensorflow.keras import layers, Input, Model\n",
    "from tensorflow.keras.layers import Bidirectional, LSTM, Dense, Lambda\n",
    "from mltu.tensorflow.model_utils import residual_block\n",
    "import tensorflow as tf\n",
    "\n",
    "def load_crnn_model(input_dim, output_dim, activation='leaky_relu', dropout=0):\n",
    "    inputs = Input(shape=input_dim, name=\"input\")\n",
    "    input_normalized = Lambda(lambda x: x / 255.0)(inputs)  # Normalizing input to [0, 1]\n",
    "    \n",
    "    # Convolutional Backbone (using custom residual blocks)\n",
    "    x1 = residual_block(input_normalized, 16, activation=activation, skip_conv=True, strides=1, dropout=dropout)\n",
    "    x2 = residual_block(x1, 16, activation=activation, skip_conv=True, strides=2, dropout=dropout)\n",
    "    x3 = residual_block(x2, 16, activation=activation, skip_conv=False, strides=1, dropout=dropout)\n",
    "\n",
    "    x4 = residual_block(x3, 32, activation=activation, skip_conv=True, strides=2, dropout=dropout)\n",
    "    x5 = residual_block(x4, 32, activation=activation, skip_conv=False, strides=1, dropout=dropout)\n",
    "\n",
    "    x6 = residual_block(x5, 64, activation=activation, skip_conv=True, strides=1, dropout=dropout)\n",
    "    x7 = residual_block(x6, 64, activation=activation, skip_conv=False, strides=1, dropout=dropout)\n",
    "\n",
    "    # Reshape the tensor to make it compatible with the RNN\n",
    "    reshaped_output = layers.Reshape((x7.shape[1] * x7.shape[2], x7.shape[-1]))(x7)\n",
    "\n",
    "    # Add Bidirectional LSTM layers to capture sequential patterns\n",
    "    blstm1 = Bidirectional(LSTM(64, return_sequences=True, dropout=0.2, recurrent_dropout=0.2))(reshaped_output)\n",
    "    # blstm2 = Bidirectional(LSTM(64, return_sequences=True, dropout=0.2, recurrent_dropout=0.2))(blstm1)\n",
    "    output = Dense(output_dim + 1, activation='softmax', name=\"output\")(blstm1)\n",
    "\n",
    "    # Create and return the model\n",
    "    model = Model(inputs=inputs, outputs=output)\n",
    "    return model\n"
   ]
  },
  {
   "cell_type": "code",
   "execution_count": null,
   "metadata": {
    "trusted": true
   },
   "outputs": [],
   "source": [
    "#resnet = ResNet50(include_top=False, weights=\"imagenet\", input_shape=(256, 256, 3))\n",
    "\n",
    "#esnet.summary()"
   ]
  },
  {
   "cell_type": "markdown",
   "metadata": {},
   "source": [
    "#### Training the model"
   ]
  },
  {
   "cell_type": "code",
   "execution_count": null,
   "metadata": {
    "trusted": true
   },
   "outputs": [],
   "source": [
    "from mltu.tensorflow.losses import CTCloss\n",
    "from mltu.tensorflow.metrics import CWERMetric\n",
    "from keras.callbacks import EarlyStopping, ModelCheckpoint, ReduceLROnPlateau, TensorBoard\n",
    "\n",
    "\n",
    "model = load_crnn_model((32, 128, 3), vocab_size, dropout=0)\n",
    "model.name = \"CRNN_Model_control\"\n",
    "\n",
    "model.compile(\n",
    "    optimizer=tf.keras.optimizers.Adam(learning_rate=LEARNING_RATE), \n",
    "    loss=CTCloss(), \n",
    "    metrics=[CWERMetric(padding_token=0)],\n",
    "    run_eagerly=False\n",
    ")\n",
    "\n",
    "earlystopper = EarlyStopping(monitor=\"val_CER\", patience=10, verbose=1, mode='min')\n",
    "checkpoint = ModelCheckpoint(f\"{TRAINED_MODEL_PATH}/{model.name}/weight.keras\", monitor=\"val_CER\", verbose=1, save_best_only=True, mode=\"min\")\n",
    "tb_callback = TensorBoard(f\"{TRAINED_MODEL_PATH}/{model.name}/logs\", update_freq=10)\n",
    "reduceLROnPlat = ReduceLROnPlateau(monitor=\"val_CER\", factor=0.9, min_delta=1e-10, patience=5, verbose=1, mode=\"auto\")\n",
    "\n",
    "model.summary()"
   ]
  },
  {
   "cell_type": "code",
   "execution_count": null,
   "metadata": {
    "trusted": true
   },
   "outputs": [],
   "source": [
    "history = model.fit(\n",
    "    train_ds,\n",
    "    validation_data=val_ds,\n",
    "    epochs=100,\n",
    "    callbacks=[earlystopper, checkpoint, reduceLROnPlat, tb_callback],\n",
    ")"
   ]
  },
  {
   "cell_type": "code",
   "execution_count": null,
   "metadata": {
    "trusted": true
   },
   "outputs": [],
   "source": [
    "train_cer = history.history['CER']\n",
    "val_cer = history.history['val_CER']\n",
    "epochs = list(range(1, len(train_cer) + 1))\n",
    "\n",
    "plt.figure(figsize=(10, 6))\n",
    "plt.plot(epochs, train_cer, label='Training CER', marker='o')\n",
    "plt.plot(epochs, val_cer, label='Validation CER', marker='o')\n",
    "plt.title('Training and Validation CER')\n",
    "plt.xlabel('Epochs')\n",
    "plt.ylabel('CER')\n",
    "plt.legend()\n",
    "plt.grid()\n",
    "plt.show()"
   ]
  },
  {
   "cell_type": "code",
   "execution_count": null,
   "metadata": {
    "trusted": true
   },
   "outputs": [],
   "source": [
    "train_loss = history.history['loss']\n",
    "val_loss = history.history['val_loss']\n",
    "epochs = epochs = list(range(1, len(train_loss) + 1))\n",
    "\n",
    "plt.figure(figsize=(10, 6))\n",
    "plt.plot(epochs, train_loss, label='Training Loss', marker='o')\n",
    "plt.plot(epochs, val_loss, label='Validation Loss', marker='o')\n",
    "plt.title('Training and Validation Loss')\n",
    "plt.xlabel('Epochs')\n",
    "plt.ylabel('Loss')\n",
    "plt.legend()\n",
    "plt.grid()\n",
    "plt.show()"
   ]
  },
  {
   "cell_type": "code",
   "execution_count": null,
   "metadata": {
    "trusted": true
   },
   "outputs": [],
   "source": [
    "example_image = train_image_data[31]\n",
    "image_path = os.path.join(TRAIN_DIR, example_image)\n",
    "pre_image = preprocess_image(image_path, IMAGE_SIZE)\n",
    "pre_image = tf.cast(pre_image, tf.float32) / 255.0\n",
    "pre_image_expanded = tf.expand_dims(pre_image, axis=0)\n",
    "\n",
    "text = model.predict(pre_image_expanded)"
   ]
  },
  {
   "cell_type": "code",
   "execution_count": null,
   "metadata": {
    "trusted": true
   },
   "outputs": [],
   "source": [
    "import numpy as np\n",
    "\n",
    "def ctc_decode(predictions, char_set=None, blank_index=0):\n",
    "    \"\"\"\n",
    "    Decode the CTC softmax output to a string using two blank indices:\n",
    "    - The first blank token at index `0`.\n",
    "    - The last index in the output that represents padding (max length).\n",
    "\n",
    "    Args:\n",
    "    predictions: A 2D numpy array with shape (timesteps, num_classes).\n",
    "    char_set: A list of characters corresponding to the indices in the predictions (including the blank tokens).\n",
    "    blank_index: The index of the first blank token (usually 0).\n",
    "    \n",
    "    Returns:\n",
    "    decoded_text: The decoded text (string).\n",
    "    \"\"\"\n",
    "    decoded_text = []\n",
    "    \n",
    "    # Determine the last blank index (max length)\n",
    "    last_blank_index = predictions.shape[1] - 1  # The last token in the softmax output (usually padding)\n",
    "    print(last_blank_index)\n",
    "\n",
    "    for i in range(predictions.shape[0]):\n",
    "        # Get the predicted character at the current timestep (highest probability)\n",
    "        char_idx = np.argmax(predictions[i])\n",
    "        \n",
    "        # Skip both blank indices: blank_index (0) and last_blank_index (max length padding)\n",
    "        if char_idx != blank_index and char_idx != last_blank_index:\n",
    "            # Prevent adding the same character consecutively\n",
    "            if len(decoded_text) == 0 or decoded_text[-1] != char_idx:\n",
    "                decoded_text.append(char_idx)\n",
    "    \n",
    "    # Map indices to characters using char_set\n",
    "    if char_set:\n",
    "        decoded_text = ''.join([char_set[idx] for idx in decoded_text])\n",
    "    \n",
    "    return decoded_text\n",
    "\n",
    "img = Image.open(image_path)\n",
    "plt.imshow(img)\n",
    "plt.axis('off')  # Hide axes for a cleaner look\n",
    "plt.show()\n",
    "\n",
    "\n",
    "prediction = text.squeeze()\n",
    "print(np.argmax(prediction, axis=-1))\n",
    "decoded_sequence = ctc_decode(prediction, vectorizer.get_vocabulary())\n",
    "print(decoded_sequence)"
   ]
  }
 ],
 "metadata": {
  "kaggle": {
   "accelerator": "gpu",
   "dataSources": [
    {
     "datasetId": 6143771,
     "sourceId": 9983836,
     "sourceType": "datasetVersion"
    }
   ],
   "dockerImageVersionId": 30786,
   "isGpuEnabled": true,
   "isInternetEnabled": true,
   "language": "python",
   "sourceType": "notebook"
  },
  "kernelspec": {
   "display_name": "Python 3",
   "language": "python",
   "name": "python3"
  },
  "language_info": {
   "codemirror_mode": {
    "name": "ipython",
    "version": 3
   },
   "file_extension": ".py",
   "mimetype": "text/x-python",
   "name": "python",
   "nbconvert_exporter": "python",
   "pygments_lexer": "ipython3",
   "version": "3.10.14"
  }
 },
 "nbformat": 4,
 "nbformat_minor": 4
}
